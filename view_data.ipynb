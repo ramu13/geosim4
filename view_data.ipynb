{
 "cells": [
  {
   "cell_type": "code",
   "execution_count": 2,
   "metadata": {},
   "outputs": [],
   "source": [
    "import pandas as pd"
   ]
  },
  {
   "cell_type": "code",
   "execution_count": 4,
   "metadata": {},
   "outputs": [],
   "source": [
    "df = pd.read_csv('100m_mesh_pop2020_22220/100m_mesh_pop2020_22220裾野市.csv')"
   ]
  },
  {
   "cell_type": "code",
   "execution_count": 5,
   "metadata": {},
   "outputs": [
    {
     "data": {
      "text/html": [
       "<div>\n",
       "<style scoped>\n",
       "    .dataframe tbody tr th:only-of-type {\n",
       "        vertical-align: middle;\n",
       "    }\n",
       "\n",
       "    .dataframe tbody tr th {\n",
       "        vertical-align: top;\n",
       "    }\n",
       "\n",
       "    .dataframe thead th {\n",
       "        text-align: right;\n",
       "    }\n",
       "</style>\n",
       "<table border=\"1\" class=\"dataframe\">\n",
       "  <thead>\n",
       "    <tr style=\"text-align: right;\">\n",
       "      <th></th>\n",
       "      <th>Meshcode</th>\n",
       "      <th>Shicode</th>\n",
       "      <th>PopT</th>\n",
       "      <th>Pop0_14</th>\n",
       "      <th>Pop15_64</th>\n",
       "      <th>Pop65over</th>\n",
       "      <th>Pop75over</th>\n",
       "      <th>Pop85over</th>\n",
       "    </tr>\n",
       "  </thead>\n",
       "  <tbody>\n",
       "    <tr>\n",
       "      <th>0</th>\n",
       "      <td>5238577284</td>\n",
       "      <td>22220</td>\n",
       "      <td>156.4531</td>\n",
       "      <td>15.3659</td>\n",
       "      <td>108.9584</td>\n",
       "      <td>32.1288</td>\n",
       "      <td>15.3659</td>\n",
       "      <td>1.3969</td>\n",
       "    </tr>\n",
       "    <tr>\n",
       "      <th>1</th>\n",
       "      <td>5238577291</td>\n",
       "      <td>22220</td>\n",
       "      <td>22.4382</td>\n",
       "      <td>3.6191</td>\n",
       "      <td>13.3905</td>\n",
       "      <td>5.4286</td>\n",
       "      <td>3.6191</td>\n",
       "      <td>0.3619</td>\n",
       "    </tr>\n",
       "    <tr>\n",
       "      <th>2</th>\n",
       "      <td>5238577292</td>\n",
       "      <td>22220</td>\n",
       "      <td>26.6540</td>\n",
       "      <td>4.1506</td>\n",
       "      <td>16.1409</td>\n",
       "      <td>6.3625</td>\n",
       "      <td>4.1506</td>\n",
       "      <td>0.4130</td>\n",
       "    </tr>\n",
       "    <tr>\n",
       "      <th>3</th>\n",
       "      <td>5238577293</td>\n",
       "      <td>22220</td>\n",
       "      <td>17.8283</td>\n",
       "      <td>1.7510</td>\n",
       "      <td>12.4161</td>\n",
       "      <td>3.6612</td>\n",
       "      <td>1.7510</td>\n",
       "      <td>0.1592</td>\n",
       "    </tr>\n",
       "    <tr>\n",
       "      <th>4</th>\n",
       "      <td>5238577294</td>\n",
       "      <td>22220</td>\n",
       "      <td>30.0196</td>\n",
       "      <td>2.9484</td>\n",
       "      <td>20.9065</td>\n",
       "      <td>6.1647</td>\n",
       "      <td>2.9484</td>\n",
       "      <td>0.2680</td>\n",
       "    </tr>\n",
       "    <tr>\n",
       "      <th>...</th>\n",
       "      <td>...</td>\n",
       "      <td>...</td>\n",
       "      <td>...</td>\n",
       "      <td>...</td>\n",
       "      <td>...</td>\n",
       "      <td>...</td>\n",
       "      <td>...</td>\n",
       "      <td>...</td>\n",
       "    </tr>\n",
       "    <tr>\n",
       "      <th>2302</th>\n",
       "      <td>5238764231</td>\n",
       "      <td>22220</td>\n",
       "      <td>0.4674</td>\n",
       "      <td>0.0275</td>\n",
       "      <td>0.2749</td>\n",
       "      <td>0.1650</td>\n",
       "      <td>0.0825</td>\n",
       "      <td>0.0275</td>\n",
       "    </tr>\n",
       "    <tr>\n",
       "      <th>2303</th>\n",
       "      <td>5238764232</td>\n",
       "      <td>22220</td>\n",
       "      <td>1.5326</td>\n",
       "      <td>0.0902</td>\n",
       "      <td>0.9015</td>\n",
       "      <td>0.5409</td>\n",
       "      <td>0.2705</td>\n",
       "      <td>0.0902</td>\n",
       "    </tr>\n",
       "    <tr>\n",
       "      <th>2304</th>\n",
       "      <td>5238766156</td>\n",
       "      <td>22220</td>\n",
       "      <td>0.1217</td>\n",
       "      <td>0.0072</td>\n",
       "      <td>0.0716</td>\n",
       "      <td>0.0430</td>\n",
       "      <td>0.0215</td>\n",
       "      <td>0.0072</td>\n",
       "    </tr>\n",
       "    <tr>\n",
       "      <th>2305</th>\n",
       "      <td>5238766165</td>\n",
       "      <td>22220</td>\n",
       "      <td>1.1890</td>\n",
       "      <td>0.0699</td>\n",
       "      <td>0.6994</td>\n",
       "      <td>0.4197</td>\n",
       "      <td>0.2098</td>\n",
       "      <td>0.0699</td>\n",
       "    </tr>\n",
       "    <tr>\n",
       "      <th>2306</th>\n",
       "      <td>5238766166</td>\n",
       "      <td>22220</td>\n",
       "      <td>0.6892</td>\n",
       "      <td>0.0405</td>\n",
       "      <td>0.4054</td>\n",
       "      <td>0.2433</td>\n",
       "      <td>0.1216</td>\n",
       "      <td>0.0405</td>\n",
       "    </tr>\n",
       "  </tbody>\n",
       "</table>\n",
       "<p>2307 rows × 8 columns</p>\n",
       "</div>"
      ],
      "text/plain": [
       "        Meshcode  Shicode      PopT  Pop0_14  Pop15_64  Pop65over  Pop75over  \\\n",
       "0     5238577284    22220  156.4531  15.3659  108.9584    32.1288    15.3659   \n",
       "1     5238577291    22220   22.4382   3.6191   13.3905     5.4286     3.6191   \n",
       "2     5238577292    22220   26.6540   4.1506   16.1409     6.3625     4.1506   \n",
       "3     5238577293    22220   17.8283   1.7510   12.4161     3.6612     1.7510   \n",
       "4     5238577294    22220   30.0196   2.9484   20.9065     6.1647     2.9484   \n",
       "...          ...      ...       ...      ...       ...        ...        ...   \n",
       "2302  5238764231    22220    0.4674   0.0275    0.2749     0.1650     0.0825   \n",
       "2303  5238764232    22220    1.5326   0.0902    0.9015     0.5409     0.2705   \n",
       "2304  5238766156    22220    0.1217   0.0072    0.0716     0.0430     0.0215   \n",
       "2305  5238766165    22220    1.1890   0.0699    0.6994     0.4197     0.2098   \n",
       "2306  5238766166    22220    0.6892   0.0405    0.4054     0.2433     0.1216   \n",
       "\n",
       "      Pop85over  \n",
       "0        1.3969  \n",
       "1        0.3619  \n",
       "2        0.4130  \n",
       "3        0.1592  \n",
       "4        0.2680  \n",
       "...         ...  \n",
       "2302     0.0275  \n",
       "2303     0.0902  \n",
       "2304     0.0072  \n",
       "2305     0.0699  \n",
       "2306     0.0405  \n",
       "\n",
       "[2307 rows x 8 columns]"
      ]
     },
     "execution_count": 5,
     "metadata": {},
     "output_type": "execute_result"
    }
   ],
   "source": [
    "df"
   ]
  },
  {
   "cell_type": "markdown",
   "metadata": {},
   "source": [
    "- メッシュのコード番号は, メッシュの南西隅の「緯度×3/2」（2 桁）＋「経度－100」（2 桁）の 4 桁の数値"
   ]
  },
  {
   "cell_type": "code",
   "execution_count": 9,
   "metadata": {},
   "outputs": [],
   "source": [
    "import shapefile"
   ]
  },
  {
   "cell_type": "code",
   "execution_count": 11,
   "metadata": {},
   "outputs": [
    {
     "name": "stdout",
     "output_type": "stream",
     "text": [
      "Traceback (most recent call last):\n",
      "  File \"/opt/homebrew/opt/sumo/share/sumo/tools/net/net2geojson.py\", line 82, in <module>\n",
      "    if not net.hasGeoProj():\n",
      "           ^^^^^^^^^^^^^^^^\n",
      "  File \"/opt/homebrew/opt/sumo/share/sumo/tools/sumolib/net/__init__.py\", line 464, in hasGeoProj\n",
      "    projString = self._location[\"projParameter\"]\n",
      "                 ~~~~~~~~~~~~~~^^^^^^^^^^^^^^^^^\n",
      "KeyError: 'projParameter'\n"
     ]
    }
   ],
   "source": []
  },
  {
   "cell_type": "code",
   "execution_count": null,
   "metadata": {},
   "outputs": [],
   "source": []
  },
  {
   "cell_type": "code",
   "execution_count": null,
   "metadata": {},
   "outputs": [],
   "source": []
  },
  {
   "cell_type": "code",
   "execution_count": null,
   "metadata": {},
   "outputs": [],
   "source": []
  },
  {
   "cell_type": "code",
   "execution_count": null,
   "metadata": {},
   "outputs": [],
   "source": []
  },
  {
   "cell_type": "code",
   "execution_count": null,
   "metadata": {},
   "outputs": [],
   "source": []
  },
  {
   "cell_type": "code",
   "execution_count": null,
   "metadata": {},
   "outputs": [],
   "source": []
  },
  {
   "cell_type": "code",
   "execution_count": null,
   "metadata": {},
   "outputs": [],
   "source": []
  },
  {
   "cell_type": "code",
   "execution_count": null,
   "metadata": {},
   "outputs": [],
   "source": []
  },
  {
   "cell_type": "code",
   "execution_count": null,
   "metadata": {},
   "outputs": [],
   "source": []
  },
  {
   "cell_type": "code",
   "execution_count": null,
   "metadata": {},
   "outputs": [],
   "source": []
  }
 ],
 "metadata": {
  "kernelspec": {
   "display_name": "myenv",
   "language": "python",
   "name": "python3"
  },
  "language_info": {
   "codemirror_mode": {
    "name": "ipython",
    "version": 3
   },
   "file_extension": ".py",
   "mimetype": "text/x-python",
   "name": "python",
   "nbconvert_exporter": "python",
   "pygments_lexer": "ipython3",
   "version": "3.11.3"
  }
 },
 "nbformat": 4,
 "nbformat_minor": 2
}
